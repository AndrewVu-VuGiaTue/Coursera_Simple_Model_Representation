{
 "cells": [
  {
   "cell_type": "code",
   "execution_count": 64,
   "metadata": {},
   "outputs": [],
   "source": [
    "# Declare used libraries\n",
    "import tensorflow as tf\n",
    "import numpy as np\n",
    "import pandas as pd\n",
    "import matplotlib.pyplot as plt"
   ]
  },
  {
   "cell_type": "code",
   "execution_count": 65,
   "metadata": {},
   "outputs": [],
   "source": [
    "# Load dataset\n",
    "df = pd.read_csv(\"house_prices_dataset_cleaned.csv\")\n",
    "x_train = df[\"sqft (1000s)\"].values\n",
    "y_train = df[\"price (1000$)\"].values"
   ]
  },
  {
   "cell_type": "code",
   "execution_count": 66,
   "metadata": {},
   "outputs": [],
   "source": [
    "# Convert to TensorFlow dataset \n",
    "x_train = tf.convert_to_tensor(x_train, dtype=tf.float32)\n",
    "y_train = tf.convert_to_tensor(y_train, dtype=tf.float32)"
   ]
  },
  {
   "cell_type": "code",
   "execution_count": 80,
   "metadata": {},
   "outputs": [
    {
     "name": "stderr",
     "output_type": "stream",
     "text": [
      "c:\\Users\\Lenovo\\.conda\\envs\\dev2\\lib\\site-packages\\keras\\src\\layers\\core\\dense.py:87: UserWarning: Do not pass an `input_shape`/`input_dim` argument to a layer. When using Sequential models, prefer using an `Input(shape)` object as the first layer in the model instead.\n",
      "  super().__init__(activity_regularizer=activity_regularizer, **kwargs)\n"
     ]
    }
   ],
   "source": [
    "# Initialize model with given parameters\n",
    "model = tf.keras.Sequential([\n",
    "    tf.keras.layers.Dense(1, input_shape=(1,), activation=None,\n",
    "                          kernel_initializer=tf.keras.initializers.Constant(50.0),\n",
    "                          bias_initializer=tf.keras.initializers.Constant(10.0))\n",
    "])\n",
    "\n",
    "# Compile model without optimizer, manually update par\n",
    "model.compile(loss=\"mse\")   "
   ]
  },
  {
   "cell_type": "code",
   "execution_count": 89,
   "metadata": {},
   "outputs": [
    {
     "name": "stdout",
     "output_type": "stream",
     "text": [
      "<Variable path=sequential_11/dense_11/kernel, shape=(1, 1), dtype=float32, value=[[3.1547875]]> <Variable path=sequential_11/dense_11/bias, shape=(1,), dtype=float32, value=[57.339924]>\n"
     ]
    }
   ],
   "source": [
    "# Initial parameters\n",
    "w, b = model.layers[0].weights\n",
    "print(w, b)"
   ]
  },
  {
   "cell_type": "code",
   "execution_count": 82,
   "metadata": {},
   "outputs": [],
   "source": [
    "# iterations and learning rate\n",
    "epochs = 1000\n",
    "learning_rate = 0.01"
   ]
  },
  {
   "cell_type": "code",
   "execution_count": 85,
   "metadata": {},
   "outputs": [
    {
     "name": "stdout",
     "output_type": "stream",
     "text": [
      "Epoch 0: Cost = 796.8082\n",
      "Epoch 50: Cost = 793.7098\n",
      "Epoch 100: Cost = 790.9473\n",
      "Epoch 150: Cost = 788.4843\n",
      "Epoch 200: Cost = 786.2884\n",
      "Epoch 250: Cost = 784.3304\n",
      "Epoch 300: Cost = 782.5848\n",
      "Epoch 350: Cost = 781.0283\n",
      "Epoch 400: Cost = 779.6407\n",
      "Epoch 450: Cost = 778.4035\n",
      "Epoch 500: Cost = 777.3004\n",
      "Epoch 550: Cost = 776.3168\n",
      "Epoch 600: Cost = 775.4399\n",
      "Epoch 650: Cost = 774.6581\n",
      "Epoch 700: Cost = 773.9611\n",
      "Epoch 750: Cost = 773.3395\n",
      "Epoch 800: Cost = 772.7855\n",
      "Epoch 850: Cost = 772.2913\n",
      "Epoch 900: Cost = 771.8509\n",
      "Epoch 950: Cost = 771.4582\n"
     ]
    }
   ],
   "source": [
    "# Training model\n",
    "for epoch in range(epochs):\n",
    "    with tf.GradientTape() as tape:\n",
    "        y_pred = model(x_train, training=True) #Predictions\n",
    "        cost = 1/2 * tf.reduce_mean(tf.square(y_pred - y_train))  # MSE\n",
    "\n",
    "    # Calculate gradient\n",
    "    gradients = tape.gradient(cost, [w, b])\n",
    "\n",
    "    # Update parameters\n",
    "    w.assign_sub(learning_rate * gradients[0])\n",
    "    b.assign_sub(learning_rate * gradients[1])\n",
    "\n",
    "    if epoch % 50 == 0:\n",
    "        print(f\"Epoch {epoch}: Cost = {cost.numpy():.4f}\")"
   ]
  },
  {
   "cell_type": "code",
   "execution_count": 95,
   "metadata": {},
   "outputs": [
    {
     "name": "stdout",
     "output_type": "stream",
     "text": [
      "w = 3.1548, b = 57.3399\n"
     ]
    }
   ],
   "source": [
    "# Final parameters\n",
    "w_final = w[0][0]\n",
    "b_final = b[0]\n",
    "print(f\"w = {w_final:.4f}, b = {b_final:.4f}\")"
   ]
  },
  {
   "cell_type": "code",
   "execution_count": 102,
   "metadata": {},
   "outputs": [
    {
     "data": {
      "image/png": "[encoded data removed]",
      "text/plain": [
       "<Figure size 640x480 with 1 Axes>"
      ]
     },
     "metadata": {},
     "output_type": "display_data"
    }
   ],
   "source": [
    "# Create the line\n",
    "x_range = np.linspace(min(x_train), max(x_train), 100) \n",
    "y_pred = x_range * w_final + b_final  # y = x * w + b\n",
    "\n",
    "# Plot the result\n",
    "plt.scatter(x_train, y_train, label=\"Actual Values\")  # True data\n",
    "plt.plot(x_range, y_pred, color=\"red\", label=\"Prediction\") # Linear regression line\n",
    "plt.xlabel(\"sqft (1000s)\")\n",
    "plt.ylabel(\"price (1000$)\")\n",
    "plt.legend()\n",
    "plt.title(\"House Price\")\n",
    "plt.show()"
   ]
  },
  {
   "cell_type": "code",
   "execution_count": null,
   "metadata": {},
   "outputs": [],
   "source": []
  }
 ],
 "metadata": {
  "kernelspec": {
   "display_name": "dev2",
   "language": "python",
   "name": "python3"
  },
  "language_info": {
   "codemirror_mode": {
    "name": "ipython",
    "version": 3
   },
   "file_extension": ".py",
   "mimetype": "text/x-python",
   "name": "python",
   "nbconvert_exporter": "python",
   "pygments_lexer": "ipython3",
   "version": "3.10.14"
  }
 },
 "nbformat": 4,
 "nbformat_minor": 2
}
